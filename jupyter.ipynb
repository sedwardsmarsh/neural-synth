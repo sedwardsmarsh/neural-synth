{
 "cells": [
  {
   "cell_type": "code",
   "execution_count": 1,
   "metadata": {},
   "outputs": [],
   "source": [
    "from typing import List, Tuple\n",
    "import tensorflow as tf\n",
    "from tensorflow.python.keras import Sequential\n",
    "from tensorflow.python.keras.layers import InputLayer, GRU, Dense\n",
    "import glob\n",
    "import os\n",
    "from scipy.io.wavfile import read\n",
    "import numpy as np\n",
    "\n",
    "def esr(y_path: str, y_hat_path: str) -> float:\n",
    "    '''Returns the Error-to-Signal Ratio.\n",
    "\n",
    "    Keyword arguments:\n",
    "    y -- the groundtruth file\n",
    "    y_hat -- the prediction file\n",
    "    '''\n",
    "    y_sample_rate, y = read(y_path)\n",
    "    y_hat_sample_rate, y_hat = read(y_hat_path)\n",
    "    power = 2.0\n",
    "    numerator = sum(abs(y - y_hat)**power)\n",
    "    denominator = sum(abs(y)**power)\n",
    "    return numerator / denominator  \n",
    "\n",
    "\n",
    "def normalize(array: List, scale_max: int=1, scale_min: int=0) -> List:\n",
    "    '''Returns a normalized array.\n",
    "    \n",
    "    Keyword arguments:\n",
    "    array -- array to normalize\n",
    "    scale_max -- maximum value to scale between\n",
    "    scale_min -- minimum value to scale between\n",
    "\n",
    "    Source: https://www.geeksforgeeks.org/how-to-normalize-an-array-in-numpy-in-python/\n",
    "    '''\n",
    "    norm_arr = []\n",
    "    diff = scale_max - scale_min\n",
    "    diff_arr = np.max(array) - np.min(array)\n",
    "    for i in array:\n",
    "        temp = (((i - np.min(array))*diff)/diff_arr) + scale_min\n",
    "        norm_arr.append(temp)\n",
    "    return norm_arr\n",
    "\n",
    "\n",
    "def partition_dataset(data_path: str='data/simple_dataset/*', train_perc: float=0.8) -> Tuple[List, List, List, List]: \n",
    "    '''Partition into train, train_labels & test, test_labels datasets.\n",
    "\n",
    "    Keyword arguments:\n",
    "    data_path -- where the data lives\n",
    "    '''\n",
    "    assert train_perc < 1, 'train_perc must be less than 1'\n",
    "    data_paths = glob.glob(data_path)\n",
    "    split_idx = int(0.8 * len(data_paths))\n",
    "    train_paths, test_paths = data_paths[:split_idx], data_paths[split_idx:]\n",
    "    train_data, test_data = [], []\n",
    "    train_labels, test_labels = [], []\n",
    "    for file in train_paths:\n",
    "        _, data = read(file)\n",
    "        train_data.append(data)\n",
    "        train_labels.append(os.path.basename(file).split('.')[0])\n",
    "    for file in test_paths:\n",
    "        _, data = read(file)\n",
    "        test_data.append(data)\n",
    "        test_labels.append(os.path.basename(file).split('.')[0])\n",
    "    return train_data, train_labels, test_data, test_labels\n",
    "\n",
    "\n",
    "def make_model(num_output_nodes: int=3) -> Sequential:\n",
    "    '''Return a model.\n",
    "    \n",
    "    Keyword arguments:\n",
    "    num_output_nodes -- number of nodes on the output layer\n",
    "    '''\n",
    "    model = Sequential([\n",
    "        InputLayer,\n",
    "        tf.keras.layers.Flatten(input_shape=(28, 28)),\n",
    "        Dense(128, activation='relu'),\n",
    "        Dense(64, activation='relu'),\n",
    "        Dense(32, activation='relu'),\n",
    "        Dense(16, activation='relu'),\n",
    "        Dense(num_output_nodes)\n",
    "    ])\n",
    "    return model"
   ]
  },
  {
   "cell_type": "code",
   "execution_count": 2,
   "metadata": {},
   "outputs": [],
   "source": [
    "# partition dataset\n",
    "train_data, train_labels, test_data, test_labels = partition_dataset()"
   ]
  },
  {
   "cell_type": "code",
   "execution_count": 3,
   "metadata": {},
   "outputs": [
    {
     "name": "stdout",
     "output_type": "stream",
     "text": [
      "0.00% train data normalization complete\n",
      "0.10% train data normalization complete\n",
      "0.20% train data normalization complete\n",
      "0.30% train data normalization complete\n",
      "0.40% train data normalization complete\n",
      "0.50% train data normalization complete\n",
      "0.60% train data normalization complete\n",
      "0.70% train data normalization complete\n",
      "0.80% train data normalization complete\n",
      "0.90% train data normalization complete\n",
      "0.00% test data normalization complete\n",
      "0.10% test data normalization complete\n",
      "0.20% test data normalization complete\n",
      "0.30% test data normalization complete\n",
      "0.40% test data normalization complete\n",
      "0.50% test data normalization complete\n",
      "0.60% test data normalization complete\n",
      "0.70% test data normalization complete\n",
      "0.80% test data normalization complete\n",
      "0.90% test data normalization complete\n"
     ]
    }
   ],
   "source": [
    "# normalize datasets\n",
    "train_data_norm = []\n",
    "for i, d in enumerate(train_data):\n",
    "    if i % (len(train_data) * 0.1) == 0:\n",
    "        print(f'{i/len(train_data):.2f}% train data normalization complete')\n",
    "    train_data_norm.append(normalize(d))\n",
    "test_data_norm = []\n",
    "for i, d in enumerate(test_data):\n",
    "    if i % (len(test_data) * 0.1) == 0:\n",
    "        print(f'{i/len(test_data):.2f}% test data normalization complete')\n",
    "    test_data_norm.append(normalize(d))"
   ]
  },
  {
   "cell_type": "code",
   "execution_count": 4,
   "metadata": {},
   "outputs": [
    {
     "name": "stderr",
     "output_type": "stream",
     "text": [
      "2022-03-23 16:20:28.704625: I tensorflow/core/common_runtime/pluggable_device/pluggable_device_factory.cc:305] Could not identify NUMA node of platform GPU ID 0, defaulting to 0. Your kernel may not have been built with NUMA support.\n",
      "2022-03-23 16:20:28.704930: I tensorflow/core/common_runtime/pluggable_device/pluggable_device_factory.cc:271] Created TensorFlow device (/job:localhost/replica:0/task:0/device:GPU:0 with 0 MB memory) -> physical PluggableDevice (device: 0, name: METAL, pci bus id: <undefined>)\n"
     ]
    },
    {
     "name": "stdout",
     "output_type": "stream",
     "text": [
      "Metal device set to: Apple M1\n",
      "\n",
      "systemMemory: 16.00 GB\n",
      "maxCacheSize: 5.33 GB\n",
      "\n"
     ]
    },
    {
     "ename": "TypeError",
     "evalue": "The added layer must be an instance of class Layer. Found: <class 'tensorflow.python.keras.engine.input_layer.InputLayer'>",
     "output_type": "error",
     "traceback": [
      "\u001b[0;31m---------------------------------------------------------------------------\u001b[0m",
      "\u001b[0;31mTypeError\u001b[0m                                 Traceback (most recent call last)",
      "\u001b[1;32m/Users/sadedwar/code/fun/ga-synth/jupyter.ipynb Cell 4'\u001b[0m in \u001b[0;36m<cell line: 2>\u001b[0;34m()\u001b[0m\n\u001b[1;32m      <a href='vscode-notebook-cell:/Users/sadedwar/code/fun/ga-synth/jupyter.ipynb#ch0000003?line=0'>1</a>\u001b[0m \u001b[39m# make and compile ML model\u001b[39;00m\n\u001b[0;32m----> <a href='vscode-notebook-cell:/Users/sadedwar/code/fun/ga-synth/jupyter.ipynb#ch0000003?line=1'>2</a>\u001b[0m model \u001b[39m=\u001b[39m make_model()\n\u001b[1;32m      <a href='vscode-notebook-cell:/Users/sadedwar/code/fun/ga-synth/jupyter.ipynb#ch0000003?line=2'>3</a>\u001b[0m model\u001b[39m.\u001b[39mcompile(optimizer\u001b[39m=\u001b[39m\u001b[39m'\u001b[39m\u001b[39madam\u001b[39m\u001b[39m'\u001b[39m,\n\u001b[1;32m      <a href='vscode-notebook-cell:/Users/sadedwar/code/fun/ga-synth/jupyter.ipynb#ch0000003?line=3'>4</a>\u001b[0m               loss\u001b[39m=\u001b[39mesr(),\n\u001b[1;32m      <a href='vscode-notebook-cell:/Users/sadedwar/code/fun/ga-synth/jupyter.ipynb#ch0000003?line=4'>5</a>\u001b[0m               metrics\u001b[39m=\u001b[39m[\u001b[39m'\u001b[39m\u001b[39maccuracy\u001b[39m\u001b[39m'\u001b[39m])\n",
      "\u001b[1;32m/Users/sadedwar/code/fun/ga-synth/jupyter.ipynb Cell 1'\u001b[0m in \u001b[0;36mmake_model\u001b[0;34m(num_output_nodes)\u001b[0m\n\u001b[1;32m     <a href='vscode-notebook-cell:/Users/sadedwar/code/fun/ga-synth/jupyter.ipynb#ch0000000?line=66'>67</a>\u001b[0m \u001b[39mdef\u001b[39;00m \u001b[39mmake_model\u001b[39m(num_output_nodes: \u001b[39mint\u001b[39m\u001b[39m=\u001b[39m\u001b[39m3\u001b[39m) \u001b[39m-\u001b[39m\u001b[39m>\u001b[39m Sequential:\n\u001b[1;32m     <a href='vscode-notebook-cell:/Users/sadedwar/code/fun/ga-synth/jupyter.ipynb#ch0000000?line=67'>68</a>\u001b[0m     \u001b[39m'''Return a model.\u001b[39;00m\n\u001b[1;32m     <a href='vscode-notebook-cell:/Users/sadedwar/code/fun/ga-synth/jupyter.ipynb#ch0000000?line=68'>69</a>\u001b[0m \u001b[39m    \u001b[39;00m\n\u001b[1;32m     <a href='vscode-notebook-cell:/Users/sadedwar/code/fun/ga-synth/jupyter.ipynb#ch0000000?line=69'>70</a>\u001b[0m \u001b[39m    Keyword arguments:\u001b[39;00m\n\u001b[1;32m     <a href='vscode-notebook-cell:/Users/sadedwar/code/fun/ga-synth/jupyter.ipynb#ch0000000?line=70'>71</a>\u001b[0m \u001b[39m    num_output_nodes -- number of nodes on the output layer\u001b[39;00m\n\u001b[1;32m     <a href='vscode-notebook-cell:/Users/sadedwar/code/fun/ga-synth/jupyter.ipynb#ch0000000?line=71'>72</a>\u001b[0m \u001b[39m    '''\u001b[39;00m\n\u001b[0;32m---> <a href='vscode-notebook-cell:/Users/sadedwar/code/fun/ga-synth/jupyter.ipynb#ch0000000?line=72'>73</a>\u001b[0m     model \u001b[39m=\u001b[39m Sequential([\n\u001b[1;32m     <a href='vscode-notebook-cell:/Users/sadedwar/code/fun/ga-synth/jupyter.ipynb#ch0000000?line=73'>74</a>\u001b[0m         InputLayer,\n\u001b[1;32m     <a href='vscode-notebook-cell:/Users/sadedwar/code/fun/ga-synth/jupyter.ipynb#ch0000000?line=74'>75</a>\u001b[0m         tf\u001b[39m.\u001b[39;49mkeras\u001b[39m.\u001b[39;49mlayers\u001b[39m.\u001b[39;49mFlatten(input_shape\u001b[39m=\u001b[39;49m(\u001b[39m28\u001b[39;49m, \u001b[39m28\u001b[39;49m)),\n\u001b[1;32m     <a href='vscode-notebook-cell:/Users/sadedwar/code/fun/ga-synth/jupyter.ipynb#ch0000000?line=75'>76</a>\u001b[0m         Dense(\u001b[39m128\u001b[39;49m, activation\u001b[39m=\u001b[39;49m\u001b[39m'\u001b[39;49m\u001b[39mrelu\u001b[39;49m\u001b[39m'\u001b[39;49m),\n\u001b[1;32m     <a href='vscode-notebook-cell:/Users/sadedwar/code/fun/ga-synth/jupyter.ipynb#ch0000000?line=76'>77</a>\u001b[0m         Dense(\u001b[39m64\u001b[39;49m, activation\u001b[39m=\u001b[39;49m\u001b[39m'\u001b[39;49m\u001b[39mrelu\u001b[39;49m\u001b[39m'\u001b[39;49m),\n\u001b[1;32m     <a href='vscode-notebook-cell:/Users/sadedwar/code/fun/ga-synth/jupyter.ipynb#ch0000000?line=77'>78</a>\u001b[0m         Dense(\u001b[39m32\u001b[39;49m, activation\u001b[39m=\u001b[39;49m\u001b[39m'\u001b[39;49m\u001b[39mrelu\u001b[39;49m\u001b[39m'\u001b[39;49m),\n\u001b[1;32m     <a href='vscode-notebook-cell:/Users/sadedwar/code/fun/ga-synth/jupyter.ipynb#ch0000000?line=78'>79</a>\u001b[0m         Dense(\u001b[39m16\u001b[39;49m, activation\u001b[39m=\u001b[39;49m\u001b[39m'\u001b[39;49m\u001b[39mrelu\u001b[39;49m\u001b[39m'\u001b[39;49m),\n\u001b[1;32m     <a href='vscode-notebook-cell:/Users/sadedwar/code/fun/ga-synth/jupyter.ipynb#ch0000000?line=79'>80</a>\u001b[0m         Dense(num_output_nodes)\n\u001b[1;32m     <a href='vscode-notebook-cell:/Users/sadedwar/code/fun/ga-synth/jupyter.ipynb#ch0000000?line=80'>81</a>\u001b[0m     ])\n\u001b[1;32m     <a href='vscode-notebook-cell:/Users/sadedwar/code/fun/ga-synth/jupyter.ipynb#ch0000000?line=81'>82</a>\u001b[0m     \u001b[39mreturn\u001b[39;00m model\n",
      "File \u001b[0;32m~/miniforge3/envs/env_tensorflow/lib/python3.9/site-packages/tensorflow/python/training/tracking/base.py:629\u001b[0m, in \u001b[0;36mno_automatic_dependency_tracking.<locals>._method_wrapper\u001b[0;34m(self, *args, **kwargs)\u001b[0m\n\u001b[1;32m    <a href='file:///Users/sadedwar/miniforge3/envs/env_tensorflow/lib/python3.9/site-packages/tensorflow/python/training/tracking/base.py?line=626'>627</a>\u001b[0m \u001b[39mself\u001b[39m\u001b[39m.\u001b[39m_self_setattr_tracking \u001b[39m=\u001b[39m \u001b[39mFalse\u001b[39;00m  \u001b[39m# pylint: disable=protected-access\u001b[39;00m\n\u001b[1;32m    <a href='file:///Users/sadedwar/miniforge3/envs/env_tensorflow/lib/python3.9/site-packages/tensorflow/python/training/tracking/base.py?line=627'>628</a>\u001b[0m \u001b[39mtry\u001b[39;00m:\n\u001b[0;32m--> <a href='file:///Users/sadedwar/miniforge3/envs/env_tensorflow/lib/python3.9/site-packages/tensorflow/python/training/tracking/base.py?line=628'>629</a>\u001b[0m   result \u001b[39m=\u001b[39m method(\u001b[39mself\u001b[39;49m, \u001b[39m*\u001b[39;49margs, \u001b[39m*\u001b[39;49m\u001b[39m*\u001b[39;49mkwargs)\n\u001b[1;32m    <a href='file:///Users/sadedwar/miniforge3/envs/env_tensorflow/lib/python3.9/site-packages/tensorflow/python/training/tracking/base.py?line=629'>630</a>\u001b[0m \u001b[39mfinally\u001b[39;00m:\n\u001b[1;32m    <a href='file:///Users/sadedwar/miniforge3/envs/env_tensorflow/lib/python3.9/site-packages/tensorflow/python/training/tracking/base.py?line=630'>631</a>\u001b[0m   \u001b[39mself\u001b[39m\u001b[39m.\u001b[39m_self_setattr_tracking \u001b[39m=\u001b[39m previous_value  \u001b[39m# pylint: disable=protected-access\u001b[39;00m\n",
      "File \u001b[0;32m~/miniforge3/envs/env_tensorflow/lib/python3.9/site-packages/tensorflow/python/keras/engine/sequential.py:140\u001b[0m, in \u001b[0;36mSequential.__init__\u001b[0;34m(self, layers, name)\u001b[0m\n\u001b[1;32m    <a href='file:///Users/sadedwar/miniforge3/envs/env_tensorflow/lib/python3.9/site-packages/tensorflow/python/keras/engine/sequential.py?line=137'>138</a>\u001b[0m   layers \u001b[39m=\u001b[39m [layers]\n\u001b[1;32m    <a href='file:///Users/sadedwar/miniforge3/envs/env_tensorflow/lib/python3.9/site-packages/tensorflow/python/keras/engine/sequential.py?line=138'>139</a>\u001b[0m \u001b[39mfor\u001b[39;00m layer \u001b[39min\u001b[39;00m layers:\n\u001b[0;32m--> <a href='file:///Users/sadedwar/miniforge3/envs/env_tensorflow/lib/python3.9/site-packages/tensorflow/python/keras/engine/sequential.py?line=139'>140</a>\u001b[0m   \u001b[39mself\u001b[39;49m\u001b[39m.\u001b[39;49madd(layer)\n",
      "File \u001b[0;32m~/miniforge3/envs/env_tensorflow/lib/python3.9/site-packages/tensorflow/python/training/tracking/base.py:629\u001b[0m, in \u001b[0;36mno_automatic_dependency_tracking.<locals>._method_wrapper\u001b[0;34m(self, *args, **kwargs)\u001b[0m\n\u001b[1;32m    <a href='file:///Users/sadedwar/miniforge3/envs/env_tensorflow/lib/python3.9/site-packages/tensorflow/python/training/tracking/base.py?line=626'>627</a>\u001b[0m \u001b[39mself\u001b[39m\u001b[39m.\u001b[39m_self_setattr_tracking \u001b[39m=\u001b[39m \u001b[39mFalse\u001b[39;00m  \u001b[39m# pylint: disable=protected-access\u001b[39;00m\n\u001b[1;32m    <a href='file:///Users/sadedwar/miniforge3/envs/env_tensorflow/lib/python3.9/site-packages/tensorflow/python/training/tracking/base.py?line=627'>628</a>\u001b[0m \u001b[39mtry\u001b[39;00m:\n\u001b[0;32m--> <a href='file:///Users/sadedwar/miniforge3/envs/env_tensorflow/lib/python3.9/site-packages/tensorflow/python/training/tracking/base.py?line=628'>629</a>\u001b[0m   result \u001b[39m=\u001b[39m method(\u001b[39mself\u001b[39;49m, \u001b[39m*\u001b[39;49margs, \u001b[39m*\u001b[39;49m\u001b[39m*\u001b[39;49mkwargs)\n\u001b[1;32m    <a href='file:///Users/sadedwar/miniforge3/envs/env_tensorflow/lib/python3.9/site-packages/tensorflow/python/training/tracking/base.py?line=629'>630</a>\u001b[0m \u001b[39mfinally\u001b[39;00m:\n\u001b[1;32m    <a href='file:///Users/sadedwar/miniforge3/envs/env_tensorflow/lib/python3.9/site-packages/tensorflow/python/training/tracking/base.py?line=630'>631</a>\u001b[0m   \u001b[39mself\u001b[39m\u001b[39m.\u001b[39m_self_setattr_tracking \u001b[39m=\u001b[39m previous_value  \u001b[39m# pylint: disable=protected-access\u001b[39;00m\n",
      "File \u001b[0;32m~/miniforge3/envs/env_tensorflow/lib/python3.9/site-packages/tensorflow/python/keras/engine/sequential.py:185\u001b[0m, in \u001b[0;36mSequential.add\u001b[0;34m(self, layer)\u001b[0m\n\u001b[1;32m    <a href='file:///Users/sadedwar/miniforge3/envs/env_tensorflow/lib/python3.9/site-packages/tensorflow/python/keras/engine/sequential.py?line=182'>183</a>\u001b[0m     layer \u001b[39m=\u001b[39m functional\u001b[39m.\u001b[39mModuleWrapper(layer)\n\u001b[1;32m    <a href='file:///Users/sadedwar/miniforge3/envs/env_tensorflow/lib/python3.9/site-packages/tensorflow/python/keras/engine/sequential.py?line=183'>184</a>\u001b[0m \u001b[39melse\u001b[39;00m:\n\u001b[0;32m--> <a href='file:///Users/sadedwar/miniforge3/envs/env_tensorflow/lib/python3.9/site-packages/tensorflow/python/keras/engine/sequential.py?line=184'>185</a>\u001b[0m   \u001b[39mraise\u001b[39;00m \u001b[39mTypeError\u001b[39;00m(\u001b[39m'\u001b[39m\u001b[39mThe added layer must be \u001b[39m\u001b[39m'\u001b[39m\n\u001b[1;32m    <a href='file:///Users/sadedwar/miniforge3/envs/env_tensorflow/lib/python3.9/site-packages/tensorflow/python/keras/engine/sequential.py?line=185'>186</a>\u001b[0m                   \u001b[39m'\u001b[39m\u001b[39man instance of class Layer. \u001b[39m\u001b[39m'\u001b[39m\n\u001b[1;32m    <a href='file:///Users/sadedwar/miniforge3/envs/env_tensorflow/lib/python3.9/site-packages/tensorflow/python/keras/engine/sequential.py?line=186'>187</a>\u001b[0m                   \u001b[39m'\u001b[39m\u001b[39mFound: \u001b[39m\u001b[39m'\u001b[39m \u001b[39m+\u001b[39m \u001b[39mstr\u001b[39m(layer))\n\u001b[1;32m    <a href='file:///Users/sadedwar/miniforge3/envs/env_tensorflow/lib/python3.9/site-packages/tensorflow/python/keras/engine/sequential.py?line=188'>189</a>\u001b[0m tf_utils\u001b[39m.\u001b[39massert_no_legacy_layers([layer])\n\u001b[1;32m    <a href='file:///Users/sadedwar/miniforge3/envs/env_tensorflow/lib/python3.9/site-packages/tensorflow/python/keras/engine/sequential.py?line=189'>190</a>\u001b[0m \u001b[39mif\u001b[39;00m \u001b[39mnot\u001b[39;00m \u001b[39mself\u001b[39m\u001b[39m.\u001b[39m_is_layer_name_unique(layer):\n",
      "\u001b[0;31mTypeError\u001b[0m: The added layer must be an instance of class Layer. Found: <class 'tensorflow.python.keras.engine.input_layer.InputLayer'>"
     ]
    }
   ],
   "source": [
    "# make and compile ML model\n",
    "model = make_model()\n",
    "model.compile(optimizer='adam',\n",
    "              loss=esr(),\n",
    "              metrics=['accuracy'])"
   ]
  },
  {
   "cell_type": "code",
   "execution_count": null,
   "metadata": {},
   "outputs": [],
   "source": [
    "# #train ML model\n",
    "# model.fit(train_images, train_labels, epochs=10)\n",
    "\n",
    "# #evaluate ML model on test set\n",
    "# test_loss, test_acc = model.evaluate(test_images,  test_labels, verbose=2)\n",
    "\n",
    "# #setup stop time\n",
    "# t1 = time.time()\n",
    "# total_time = t1-t0\n",
    "\n",
    "# #print results\n",
    "# print('\\n')\n",
    "# print(f'Training set contained {train_set_count} images')\n",
    "# print(f'Testing set contained {test_set_count} images')\n",
    "# print(f'Model achieved {test_acc:.2f} testing accuracy')\n",
    "# print(f'Training and testing took {total_time:.2f} seconds')"
   ]
  }
 ],
 "metadata": {
  "interpreter": {
   "hash": "535c32cf7da711053f7d18c8747577fa07283e6873ea146110942432080a695a"
  },
  "kernelspec": {
   "display_name": "Python 3.9.10 ('env_tensorflow')",
   "language": "python",
   "name": "python3"
  },
  "language_info": {
   "codemirror_mode": {
    "name": "ipython",
    "version": 3
   },
   "file_extension": ".py",
   "mimetype": "text/x-python",
   "name": "python",
   "nbconvert_exporter": "python",
   "pygments_lexer": "ipython3",
   "version": "3.9.10"
  },
  "orig_nbformat": 4
 },
 "nbformat": 4,
 "nbformat_minor": 2
}
